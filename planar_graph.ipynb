{
 "cells": [
  {
   "cell_type": "code",
   "execution_count": 1,
   "metadata": {},
   "outputs": [],
   "source": [
    "from TorusNetwork import TorusNetwork\n",
    "from Visualizer import Visualizer\n",
    "from PlanarVisualizer3D import PlanarVisualizer3D\n",
    "from Visualizer3D import Visualizer3D\n",
    "from TorusNetwork3D import TorusNetwork3D\n",
    "import matplotlib.pyplot as plt\n",
    "import numpy as np\n",
    "%matplotlib qt"
   ]
  },
  {
   "cell_type": "code",
   "execution_count": 2,
   "metadata": {},
   "outputs": [],
   "source": [
    "def get_angle(positions,r,R):\n",
    "    #Angulo en el toro es usado como ángulo inicial\n",
    "    result = np.arctan(positions[:,1] / positions[:,0])\n",
    "    xs = positions[:,0]\n",
    "    negatives = np.where(xs < 0)\n",
    "    result[negatives] += np.pi\n",
    "    result = np.fmod(result,2*np.pi)\n",
    "\n",
    "    return result\n",
    "\n",
    "\n",
    "def get_angles(positions,r,R):\n",
    "    Y = positions[:,1]\n",
    "    X = positions[:,0]\n",
    "    Z = positions[:,2]\n",
    "    norm = np.sqrt(X**2 + Y**2)\n",
    "    cos_phi = X/norm\n",
    "    sin_phi = Y/norm\n",
    "    cos_theta = (norm - R)/r\n",
    "    sin_theta = Z/r\n",
    "    phis,thetas = np.arctan2(sin_phi,cos_phi),np.arctan2(sin_theta,cos_theta)\n",
    "    phi_negatives = np.where(phis < 0)\n",
    "    phis[phi_negatives] += 2*np.pi\n",
    "    theta_negatives = np.where(thetas < 0)\n",
    "    thetas[theta_negatives] += 2*np.pi\n",
    "    return phis,thetas\n",
    "\n",
    "def get_horizontal_angle(positions,r,R):\n",
    "    return get_angles(positions,r,R)[0]\n",
    "\n",
    "def get_vertical_angle(positions,r,R):\n",
    "    return get_angles(positions,r,R)[1]\n",
    "\n",
    "def get_diagonal(positions,r,R):\n",
    "    angles = get_angles(positions,r,R)\n",
    "    return (angles[0] + angles[1])/np.sqrt(2)\n",
    "\n",
    "def double_horizontal_angle(positions,r,R):\n",
    "    return get_angles(positions,r,R)[0] * 2\n",
    "\n",
    "def constant(positions,r,R):\n",
    "    return np.zeros(len(positions))"
   ]
  },
  {
   "cell_type": "code",
   "execution_count": 3,
   "metadata": {},
   "outputs": [
    {
     "ename": "KeyboardInterrupt",
     "evalue": "",
     "output_type": "error",
     "traceback": [
      "\u001b[1;31m---------------------------------------------------------------------------\u001b[0m",
      "\u001b[1;31mKeyboardInterrupt\u001b[0m                         Traceback (most recent call last)",
      "Input \u001b[1;32mIn [3]\u001b[0m, in \u001b[0;36m<cell line: 1>\u001b[1;34m()\u001b[0m\n\u001b[1;32m----> 1\u001b[0m network \u001b[38;5;241m=\u001b[39m \u001b[43mTorusNetwork3D\u001b[49m\u001b[43m(\u001b[49m\u001b[43mw\u001b[49m\u001b[43m \u001b[49m\u001b[38;5;241;43m=\u001b[39;49m\u001b[43m \u001b[49m\u001b[38;5;241;43m1\u001b[39;49m\u001b[43m,\u001b[49m\u001b[43msize\u001b[49m\u001b[43m \u001b[49m\u001b[38;5;241;43m=\u001b[39;49m\u001b[43m \u001b[49m\u001b[38;5;241;43m2000\u001b[39;49m\u001b[43m,\u001b[49m\u001b[43mconnection_type\u001b[49m\u001b[38;5;241;43m=\u001b[39;49m\u001b[38;5;124;43m\"\u001b[39;49m\u001b[38;5;124;43mdist\u001b[39;49m\u001b[38;5;124;43m\"\u001b[39;49m\u001b[43m,\u001b[49m\u001b[43meps\u001b[49m\u001b[38;5;241;43m=\u001b[39;49m\u001b[38;5;241;43m0.25\u001b[39;49m\u001b[43m,\u001b[49m\u001b[43mposition_type\u001b[49m\u001b[38;5;241;43m=\u001b[39;49m\u001b[38;5;124;43m\"\u001b[39;49m\u001b[38;5;124;43msquare_random\u001b[39;49m\u001b[38;5;124;43m\"\u001b[39;49m\u001b[43m)\u001b[49m\n\u001b[0;32m      2\u001b[0m planar_visualizer \u001b[38;5;241m=\u001b[39m PlanarVisualizer3D(network)\n\u001b[0;32m      3\u001b[0m planar_visualizer\u001b[38;5;241m.\u001b[39mgraph_network_evolution(t \u001b[38;5;241m=\u001b[39m \u001b[38;5;241m50\u001b[39m,dt \u001b[38;5;241m=\u001b[39m \u001b[38;5;241m0.1\u001b[39m,filename\u001b[38;5;241m=\u001b[39m\u001b[38;5;124m\"\u001b[39m\u001b[38;5;124mvideos/planar_random\u001b[39m\u001b[38;5;124m\"\u001b[39m,color_distribution\u001b[38;5;241m=\u001b[39m\u001b[38;5;124m\"\u001b[39m\u001b[38;5;124mfirefly\u001b[39m\u001b[38;5;124m\"\u001b[39m)\n",
      "File \u001b[1;32mc:\\Users\\Francisco\\Documents\\UBA\\TorusKuramoto\\TorusKuramoto\\TorusNetwork3D.py:79\u001b[0m, in \u001b[0;36mTorusNetwork3D.__init__\u001b[1;34m(self, w, size, connection_type, initial_thetas, torus_outer_radius, torus_inner_radius, theta_function, eps, k, positions, position_type)\u001b[0m\n\u001b[0;32m     77\u001b[0m \u001b[38;5;28;01mif\u001b[39;00m connection_type \u001b[38;5;241m==\u001b[39m \u001b[38;5;124m\"\u001b[39m\u001b[38;5;124mdist\u001b[39m\u001b[38;5;124m\"\u001b[39m:\n\u001b[0;32m     78\u001b[0m     \u001b[38;5;28mself\u001b[39m\u001b[38;5;241m.\u001b[39meps \u001b[38;5;241m=\u001b[39m eps\n\u001b[1;32m---> 79\u001b[0m     A \u001b[38;5;241m=\u001b[39m \u001b[38;5;28;43mself\u001b[39;49m\u001b[38;5;241;43m.\u001b[39;49m\u001b[43m__create_distance_adjacency\u001b[49m\u001b[43m(\u001b[49m\u001b[43mpositions\u001b[49m\u001b[43m)\u001b[49m\n\u001b[0;32m     80\u001b[0m \u001b[38;5;28;01melif\u001b[39;00m connection_type \u001b[38;5;241m==\u001b[39m \u001b[38;5;124m\"\u001b[39m\u001b[38;5;124mdelauney\u001b[39m\u001b[38;5;124m\"\u001b[39m:\n\u001b[0;32m     81\u001b[0m     A \u001b[38;5;241m=\u001b[39m \u001b[38;5;28mself\u001b[39m\u001b[38;5;241m.\u001b[39m__create_delauney_adjacency(positions)\n",
      "File \u001b[1;32mc:\\Users\\Francisco\\Documents\\UBA\\TorusKuramoto\\TorusKuramoto\\TorusNetwork3D.py:44\u001b[0m, in \u001b[0;36mTorusNetwork3D.__create_distance_adjacency\u001b[1;34m(self, positions)\u001b[0m\n\u001b[0;32m     42\u001b[0m \u001b[38;5;28;01mfor\u001b[39;00m i \u001b[38;5;129;01min\u001b[39;00m \u001b[38;5;28mrange\u001b[39m(\u001b[38;5;28mself\u001b[39m\u001b[38;5;241m.\u001b[39msize):\n\u001b[0;32m     43\u001b[0m     \u001b[38;5;28;01mfor\u001b[39;00m j \u001b[38;5;129;01min\u001b[39;00m \u001b[38;5;28mrange\u001b[39m(\u001b[38;5;28mself\u001b[39m\u001b[38;5;241m.\u001b[39msize):\n\u001b[1;32m---> 44\u001b[0m         \u001b[38;5;28;01mif\u001b[39;00m i \u001b[38;5;241m!=\u001b[39m j \u001b[38;5;129;01mand\u001b[39;00m \u001b[43mnp\u001b[49m\u001b[38;5;241;43m.\u001b[39;49m\u001b[43mlinalg\u001b[49m\u001b[38;5;241;43m.\u001b[39;49m\u001b[43mnorm\u001b[49m\u001b[43m(\u001b[49m\u001b[43mpositions\u001b[49m\u001b[43m[\u001b[49m\u001b[43mi\u001b[49m\u001b[43m]\u001b[49m\u001b[43m \u001b[49m\u001b[38;5;241;43m-\u001b[39;49m\u001b[43m \u001b[49m\u001b[43mpositions\u001b[49m\u001b[43m[\u001b[49m\u001b[43mj\u001b[49m\u001b[43m]\u001b[49m\u001b[43m)\u001b[49m \u001b[38;5;241m<\u001b[39m \u001b[38;5;28mself\u001b[39m\u001b[38;5;241m.\u001b[39meps:\n\u001b[0;32m     45\u001b[0m             A[i,j] \u001b[38;5;241m=\u001b[39m \u001b[38;5;241m1\u001b[39m\n\u001b[0;32m     47\u001b[0m \u001b[38;5;28;01mreturn\u001b[39;00m A\n",
      "File \u001b[1;32m<__array_function__ internals>:5\u001b[0m, in \u001b[0;36mnorm\u001b[1;34m(*args, **kwargs)\u001b[0m\n",
      "File \u001b[1;32mc:\\Users\\Francisco\\AppData\\Local\\Programs\\Python\\Python39\\lib\\site-packages\\numpy\\linalg\\linalg.py:2529\u001b[0m, in \u001b[0;36mnorm\u001b[1;34m(x, ord, axis, keepdims)\u001b[0m\n\u001b[0;32m   2527\u001b[0m     sqnorm \u001b[38;5;241m=\u001b[39m dot(x\u001b[38;5;241m.\u001b[39mreal, x\u001b[38;5;241m.\u001b[39mreal) \u001b[38;5;241m+\u001b[39m dot(x\u001b[38;5;241m.\u001b[39mimag, x\u001b[38;5;241m.\u001b[39mimag)\n\u001b[0;32m   2528\u001b[0m \u001b[38;5;28;01melse\u001b[39;00m:\n\u001b[1;32m-> 2529\u001b[0m     sqnorm \u001b[38;5;241m=\u001b[39m \u001b[43mdot\u001b[49m\u001b[43m(\u001b[49m\u001b[43mx\u001b[49m\u001b[43m,\u001b[49m\u001b[43m \u001b[49m\u001b[43mx\u001b[49m\u001b[43m)\u001b[49m\n\u001b[0;32m   2530\u001b[0m ret \u001b[38;5;241m=\u001b[39m sqrt(sqnorm)\n\u001b[0;32m   2531\u001b[0m \u001b[38;5;28;01mif\u001b[39;00m keepdims:\n",
      "File \u001b[1;32m<__array_function__ internals>:5\u001b[0m, in \u001b[0;36mdot\u001b[1;34m(*args, **kwargs)\u001b[0m\n",
      "\u001b[1;31mKeyboardInterrupt\u001b[0m: "
     ]
    }
   ],
   "source": [
    "network = TorusNetwork3D(w = 1,size = 2000,connection_type=\"dist\",eps=0.25,position_type=\"square_random\")\n",
    "planar_visualizer = PlanarVisualizer3D(network)\n",
    "planar_visualizer.graph_network_evolution(t = 50,dt = 0.1,filename=\"videos/planar_random\",color_distribution=\"firefly\")\n",
    "visualizer = Visualizer3D(network)\n",
    "visualizer.graph_network_evolution(t = 50,dt = 0.1,filename=\"videos/torus_random\",color_distribution=\"firefly\",circle_radius=10,line_width=0.1)"
   ]
  },
  {
   "cell_type": "code",
   "execution_count": 10,
   "metadata": {},
   "outputs": [],
   "source": [
    "network = TorusNetwork3D(w=1,size=2000,connection_type=\"dist\",eps=0.25,theta_function=get_horizontal_angle,position_type=\"square_random\")\n",
    "planar_visualizer = PlanarVisualizer3D(network)\n",
    "planar_visualizer.graph_network_evolution(t = 20,dt = 0.1,filename=\"videos/horizontal_planar\",color_distribution=\"firefly\")\n",
    "visualizer = Visualizer3D(network)\n",
    "visualizer.graph_network_evolution(t = 20,dt = 0.1,filename=\"videos/horizontal_3d\",color_distribution=\"firefly\",circle_radius=10,line_width=0.1)"
   ]
  },
  {
   "cell_type": "code",
   "execution_count": 11,
   "metadata": {},
   "outputs": [],
   "source": [
    "network = TorusNetwork3D(w=1,size=2000,connection_type=\"dist\",eps=0.25,theta_function=get_vertical_angle,position_type=\"square_random\")\n",
    "planar_visualizer = PlanarVisualizer3D(network)\n",
    "planar_visualizer.graph_network_evolution(t = 20,dt = 0.1,filename=\"videos/vertical_planar\",color_distribution=\"firefly\")\n",
    "visualizer = Visualizer3D(network)\n",
    "visualizer.graph_network_evolution(t = 20,dt = 0.1,filename=\"videos/vertical_3d\",color_distribution=\"firefly\",circle_radius=10,line_width=0.1)"
   ]
  },
  {
   "cell_type": "code",
   "execution_count": 12,
   "metadata": {},
   "outputs": [],
   "source": [
    "network = TorusNetwork3D(w=1,size=2000,connection_type=\"dist\",eps=0.25,theta_function=get_diagonal,position_type=\"square_random\")\n",
    "planar_visualizer = PlanarVisualizer3D(network)\n",
    "planar_visualizer.graph_network_evolution(t = 20,dt = 0.1,filename=\"videos/oneone_planar\",color_distribution=\"firefly\")\n",
    "visualizer = Visualizer3D(network)\n",
    "visualizer.graph_network_evolution(t = 20,dt = 0.1,filename=\"videos/oneone_3d\",color_distribution=\"firefly\",circle_radius=10,line_width=0.1)"
   ]
  },
  {
   "cell_type": "code",
   "execution_count": 13,
   "metadata": {},
   "outputs": [],
   "source": [
    "network = TorusNetwork3D(w=1,size=2000,connection_type=\"dist\",eps=0.25,theta_function=double_horizontal_angle,position_type=\"square_random\")\n",
    "planar_visualizer = PlanarVisualizer3D(network)\n",
    "planar_visualizer.graph_network_evolution(t = 20,dt = 0.1,filename=\"videos/twozero_planar\",color_distribution=\"firefly\")\n",
    "visualizer = Visualizer3D(network)\n",
    "visualizer.graph_network_evolution(t = 20,dt = 0.1,filename=\"videos/twozero_3d\",color_distribution=\"firefly\",circle_radius=10,line_width=0.1)"
   ]
  },
  {
   "cell_type": "code",
   "execution_count": 14,
   "metadata": {},
   "outputs": [],
   "source": [
    "network = TorusNetwork3D(w=1,size=2000,connection_type=\"dist\",eps=0.25,theta_function=constant,position_type=\"square_random\")\n",
    "planar_visualizer = PlanarVisualizer3D(network)\n",
    "planar_visualizer.graph_network_evolution(t = 20,dt = 0.1,filename=\"videos/constant_planar\",color_distribution=\"firefly\")\n",
    "visualizer = Visualizer3D(network)\n",
    "visualizer.graph_network_evolution(t = 20,dt = 0.1,filename=\"videos/constant_3d\",color_distribution=\"firefly\",circle_radius=10,line_width=0.1)"
   ]
  },
  {
   "cell_type": "code",
   "execution_count": null,
   "metadata": {},
   "outputs": [],
   "source": []
  }
 ],
 "metadata": {
  "kernelspec": {
   "display_name": "Python 3",
   "language": "python",
   "name": "python3"
  },
  "language_info": {
   "codemirror_mode": {
    "name": "ipython",
    "version": 3
   },
   "file_extension": ".py",
   "mimetype": "text/x-python",
   "name": "python",
   "nbconvert_exporter": "python",
   "pygments_lexer": "ipython3",
   "version": "3.9.5"
  }
 },
 "nbformat": 4,
 "nbformat_minor": 2
}
