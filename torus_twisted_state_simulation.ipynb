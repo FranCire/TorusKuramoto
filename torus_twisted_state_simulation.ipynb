{
 "cells": [
  {
   "cell_type": "code",
   "execution_count": 2,
   "metadata": {},
   "outputs": [],
   "source": [
    "from TorusNetwork import TorusNetwork\n",
    "from Visualizer import Visualizer\n",
    "from PlanarVisualizer3D import PlanarVisualizer3D\n",
    "from Visualizer3D import Visualizer3D\n",
    "from TorusNetwork3D import TorusNetwork3D\n",
    "import matplotlib.pyplot as plt\n",
    "import numpy as np\n",
    "%matplotlib qt"
   ]
  },
  {
   "cell_type": "code",
   "execution_count": 3,
   "metadata": {},
   "outputs": [],
   "source": [
    "def get_angle(positions,r,R):\n",
    "    #Angulo en el toro es usado como ángulo inicial\n",
    "    result = np.arctan(positions[:,1] / positions[:,0])\n",
    "    xs = positions[:,0]\n",
    "    negatives = np.where(xs < 0)\n",
    "    result[negatives] += np.pi\n",
    "    result = np.fmod(result,2*np.pi)\n",
    "\n",
    "    return result\n",
    "\n",
    "\n",
    "def get_angles(positions,r,R):\n",
    "    Y = positions[:,1]\n",
    "    X = positions[:,0]\n",
    "    Z = positions[:,2]\n",
    "    norm = np.sqrt(X**2 + Y**2)\n",
    "    cos_phi = X/norm\n",
    "    sin_phi = Y/norm\n",
    "    cos_theta = (norm - R)/r\n",
    "    sin_theta = Z/r\n",
    "    phis,thetas = np.arctan2(sin_phi,cos_phi),np.arctan2(sin_theta,cos_theta)\n",
    "    phi_negatives = np.where(phis < 0)\n",
    "    phis[phi_negatives] += 2*np.pi\n",
    "    theta_negatives = np.where(thetas < 0)\n",
    "    thetas[theta_negatives] += 2*np.pi\n",
    "    return phis,thetas\n",
    "\n",
    "def get_horizontal_angle(positions,r,R):\n",
    "    return get_angles(positions,r,R)[0]\n",
    "\n",
    "def get_vertical_angle(positions,r,R):\n",
    "    return get_angles(positions,r,R)[1]\n",
    "\n",
    "def get_diagonal(positions,r,R):\n",
    "    angles = get_angles(positions,r,R)\n",
    "    return (angles[0] + angles[1])/np.sqrt(2)\n",
    "\n",
    "def double_horizontal_angle(positions,r,R):\n",
    "    return get_angles(positions,r,R)[0] * 2\n",
    "\n",
    "def constant(positions,r,R):\n",
    "    return np.zeros(len(positions))"
   ]
  },
  {
   "cell_type": "code",
   "execution_count": 3,
   "metadata": {},
   "outputs": [],
   "source": [
    "network = TorusNetwork3D(w = 1,size = 2000,connection_type=\"dist\",eps=0.25,position_type=\"square_random\")\n",
    "planar_visualizer = PlanarVisualizer3D(network)\n",
    "planar_visualizer.graph_network_evolution(t = 50,dt = 0.1,filename=\"videos/planar_random\",color_distribution=\"firefly\")\n",
    "visualizer = Visualizer3D(network)\n",
    "visualizer.graph_network_evolution(t = 50,dt = 0.1,filename=\"videos/torus_random\",color_distribution=\"firefly\",circle_radius=10,line_width=0.1)"
   ]
  },
  {
   "cell_type": "code",
   "execution_count": 6,
   "metadata": {},
   "outputs": [
    {
     "name": "stdout",
     "output_type": "stream",
     "text": [
      "PLANAR\n"
     ]
    }
   ],
   "source": [
    "network = TorusNetwork3D(w=1,size=2000,connection_type=\"dist\",eps=0.25,theta_function=get_horizontal_angle,position_type=\"square_random\")\n",
    "planar_visualizer = PlanarVisualizer3D(network)\n",
    "planar_visualizer.graph_network_evolution(t = 20,dt = 0.1,filename=\"videos/horizontal_planar\",color_distribution=\"firefly\")\n",
    "visualizer = Visualizer3D(network)\n",
    "visualizer.graph_network_evolution(t = 20,dt = 0.1,filename=\"videos/horizontal_3d\",color_distribution=\"firefly\",circle_radius=10,line_width=0.1)"
   ]
  },
  {
   "cell_type": "code",
   "execution_count": 4,
   "metadata": {},
   "outputs": [],
   "source": [
    "network = TorusNetwork3D(w=1,size=2000,connection_type=\"dist\",eps=0.25,theta_function=get_vertical_angle,position_type=\"square_random\")\n",
    "planar_visualizer = PlanarVisualizer3D(network)\n",
    "planar_visualizer.graph_network_evolution(t = 20,dt = 0.1,filename=\"videos/vertical_planar\",color_distribution=\"firefly\")\n",
    "visualizer = Visualizer3D(network)\n",
    "visualizer.graph_network_evolution(t = 20,dt = 0.1,filename=\"videos/caca_3d\",color_distribution=\"firefly\",circle_radius=10,line_width=0.1)"
   ]
  },
  {
   "cell_type": "code",
   "execution_count": null,
   "metadata": {},
   "outputs": [],
   "source": [
    "network = TorusNetwork3D(w=1,size=2000,connection_type=\"dist\",eps=0.25,theta_function=get_diagonal,position_type=\"square_random\")\n",
    "planar_visualizer = PlanarVisualizer3D(network)\n",
    "planar_visualizer.graph_network_evolution(t = 20,dt = 0.1,filename=\"videos/oneone_planar\",color_distribution=\"firefly\")\n",
    "visualizer = Visualizer3D(network)\n",
    "visualizer.graph_network_evolution(t = 20,dt = 0.1,filename=\"videos/oneone_3d\",color_distribution=\"firefly\",circle_radius=10,line_width=0.1)"
   ]
  },
  {
   "cell_type": "code",
   "execution_count": null,
   "metadata": {},
   "outputs": [],
   "source": [
    "network = TorusNetwork3D(w=1,size=2000,connection_type=\"dist\",eps=0.25,theta_function=double_horizontal_angle,position_type=\"square_random\")\n",
    "planar_visualizer = PlanarVisualizer3D(network)\n",
    "planar_visualizer.graph_network_evolution(t = 20,dt = 0.1,filename=\"videos/twozero_planar\",color_distribution=\"firefly\")\n",
    "visualizer = Visualizer3D(network)\n",
    "visualizer.graph_network_evolution(t = 20,dt = 0.1,filename=\"videos/twozero_3d\",color_distribution=\"firefly\",circle_radius=10,line_width=0.1)"
   ]
  },
  {
   "cell_type": "code",
   "execution_count": null,
   "metadata": {},
   "outputs": [],
   "source": [
    "network = TorusNetwork3D(w=1,size=2000,connection_type=\"dist\",eps=0.25,theta_function=constant,position_type=\"square_random\")\n",
    "planar_visualizer = PlanarVisualizer3D(network)\n",
    "planar_visualizer.graph_network_evolution(t = 20,dt = 0.1,filename=\"videos/constant_planar\",color_distribution=\"firefly\")\n",
    "visualizer = Visualizer3D(network)\n",
    "visualizer.graph_network_evolution(t = 20,dt = 0.1,filename=\"videos/constant_3d\",color_distribution=\"firefly\",circle_radius=10,line_width=0.1)"
   ]
  },
  {
   "cell_type": "code",
   "execution_count": null,
   "metadata": {},
   "outputs": [],
   "source": []
  }
 ],
 "metadata": {
  "kernelspec": {
   "display_name": "Python 3",
   "language": "python",
   "name": "python3"
  },
  "language_info": {
   "codemirror_mode": {
    "name": "ipython",
    "version": 3
   },
   "file_extension": ".py",
   "mimetype": "text/x-python",
   "name": "python",
   "nbconvert_exporter": "python",
   "pygments_lexer": "ipython3",
   "version": "3.9.5"
  }
 },
 "nbformat": 4,
 "nbformat_minor": 2
}
